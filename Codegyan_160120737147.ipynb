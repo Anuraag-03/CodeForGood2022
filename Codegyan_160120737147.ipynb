{
  "nbformat": 4,
  "nbformat_minor": 0,
  "metadata": {
    "colab": {
      "provenance": [],
      "collapsed_sections": [],
      "authorship_tag": "ABX9TyMNBdYeLv2guu/kQJ+VHAsP",
      "include_colab_link": true
    },
    "kernelspec": {
      "name": "python3",
      "display_name": "Python 3"
    },
    "language_info": {
      "name": "python"
    }
  },
  "cells": [
    {
      "cell_type": "markdown",
      "metadata": {
        "id": "view-in-github",
        "colab_type": "text"
      },
      "source": [
        "<a href=\"https://colab.research.google.com/github/Anuraag-8/CodeForGood2022/blob/main/Codegyan_160120737147.ipynb\" target=\"_parent\"><img src=\"https://colab.research.google.com/assets/colab-badge.svg\" alt=\"Open In Colab\"/></a>"
      ]
    },
    {
      "cell_type": "code",
      "execution_count": null,
      "metadata": {
        "colab": {
          "base_uri": "https://localhost:8080/"
        },
        "id": "hJSDLxIy1z1X",
        "outputId": "259a56f6-ae49-4130-a99a-4491faafce00"
      },
      "outputs": [
        {
          "output_type": "stream",
          "name": "stdout",
          "text": [
            "Enter year:2020\n",
            " leap year!\n"
          ]
        }
      ],
      "source": [
        "# 1)Write a program to find whether a given year is a leap year or not satisfying all the possible condition for a leap year?\n",
        "\n",
        "year=int(input(\"Enter year to be checked:\"))\n",
        "if(year%4==0 and year%100!=0 or year%400==0):\n",
        "    print(\"The year is a leap year!\")\n",
        "else:\n",
        "    print(\"The year isn't a leap year!\")"
      ]
    },
    {
      "cell_type": "code",
      "source": [
        "#2. Write a program to Convert temperature entered in Fahrenheit to Celsius ?\n",
        "\n",
        "\n",
        "f = float(input(\"Enter temperature : \"))\n",
        "print((f-32)*100/180)\n"
      ],
      "metadata": {
        "colab": {
          "base_uri": "https://localhost:8080/"
        },
        "id": "yEt_fwh72ybi",
        "outputId": "bb96a90a-bbd8-49c9-9010-c0c6e85d3807"
      },
      "execution_count": null,
      "outputs": [
        {
          "output_type": "stream",
          "name": "stdout",
          "text": [
            "Enter temperature : 100\n",
            "37.77777777777778\n"
          ]
        }
      ]
    },
    {
      "cell_type": "code",
      "source": [
        "#3.Write a program to calculate factorial of a number by accepting input from the user??\n",
        "\n",
        "def fac(n):\n",
        "  if n==1:\n",
        "    return 1\n",
        "  else:\n",
        "    return n*fac(n-1)\n",
        "x = int(input(\"Enter integer : \"))\n",
        "print(str(x)+\"!=\",fac(x))"
      ],
      "metadata": {
        "colab": {
          "base_uri": "https://localhost:8080/"
        },
        "id": "BYQsA7Wy31us",
        "outputId": "e130984c-185e-40e8-fa8c-04c8a50e7dee"
      },
      "execution_count": null,
      "outputs": [
        {
          "output_type": "stream",
          "name": "stdout",
          "text": [
            "Enter integer : 4\n",
            "4!= 24\n"
          ]
        }
      ]
    },
    {
      "cell_type": "code",
      "source": [
        "# 4)Write a program to calculate the sum and average of First n natural numbers by taking n as input from the user?\n",
        "\n",
        "n = int(input(\"Enter an int : \"))\n",
        "print(\"Sum = \",n*(n+1)/2)\n",
        "print(\"Avg = \", (n+1)/2)"
      ],
      "metadata": {
        "colab": {
          "base_uri": "https://localhost:8080/"
        },
        "id": "aOCFAfzh5MDa",
        "outputId": "39e03fb4-a07b-4361-c909-fbf9a6794764"
      },
      "execution_count": null,
      "outputs": [
        {
          "output_type": "stream",
          "name": "stdout",
          "text": [
            "Enter an int : 4\n",
            "Sum =  10.0\n",
            "Avg =  2.5\n"
          ]
        }
      ]
    },
    {
      "cell_type": "code",
      "source": [
        "# 5)Write a program which will find all such numbers which are divisible by 7 but are not a multiple of 5,\n",
        "\n",
        "\n",
        "c=0\n",
        "for i in range(1,201):\n",
        "  if i%7==0 and i%5!=0:\n",
        "    print(i,end=\", \")\n",
        "    c+=1\n",
        "print(\"Count = \",c)"
      ],
      "metadata": {
        "colab": {
          "base_uri": "https://localhost:8080/"
        },
        "id": "0MazMCLV5jFu",
        "outputId": "8f28d15e-f2ba-44f7-d804-2b131eedb55f"
      },
      "execution_count": null,
      "outputs": [
        {
          "output_type": "stream",
          "name": "stdout",
          "text": [
            "7, 14, 21, 28, 42, 49, 56, 63, 77, 84, 91, 98, 112, 119, 126, 133, 147, 154, 161, 168, 182, 189, 196, Count =  23\n"
          ]
        }
      ]
    },
    {
      "cell_type": "code",
      "source": [
        "# 6)Write a program to find the sum of squares of first 20 Odd numbers?\n",
        "\n",
        "n = 20\n",
        "print(int(n*(n+1)*(2*n+1)/6))"
      ],
      "metadata": {
        "colab": {
          "base_uri": "https://localhost:8080/"
        },
        "id": "WvDSu0kU5_Uy",
        "outputId": "5cfb1415-2593-43cc-c028-687928c272b7"
      },
      "execution_count": null,
      "outputs": [
        {
          "output_type": "stream",
          "name": "stdout",
          "text": [
            "2870\n"
          ]
        }
      ]
    },
    {
      "cell_type": "code",
      "source": [
        "# 7)Write a program that accepts a sentence and calculate the number of letters and digits.\n",
        "\n",
        "st = input(\"Enter the string : \")\n",
        "l = 0\n",
        "d = 0\n",
        "\n",
        "for i in st:\n",
        "  for j in i:\n",
        "    if j.isdigit():\n",
        "      d+=1\n",
        "    elif j.isalpha():\n",
        "      l+=1\n",
        "print(\"Number of Digits = \",d)\n",
        "print(\"Number of Letters = \",l)\n"
      ],
      "metadata": {
        "colab": {
          "base_uri": "https://localhost:8080/"
        },
        "id": "VAhb77Jn6e8E",
        "outputId": "e13ea7b6-68d9-4300-af43-2af123338321"
      },
      "execution_count": null,
      "outputs": [
        {
          "output_type": "stream",
          "name": "stdout",
          "text": [
            "Enter the string : Sarath167\n",
            "Number of Digits =  3\n",
            "Number of Letters =  6\n"
          ]
        }
      ]
    },
    {
      "cell_type": "code",
      "source": [
        "# 8)write a program to print the multiplication table of n,by taking n as input from user\n",
        "\n",
        "n = int(input(\"Enter n val : \"))\n",
        "\n",
        "for i in range(10):\n",
        "  print(n,\"x\",i+1,\" = \",n*(i+1))"
      ],
      "metadata": {
        "colab": {
          "base_uri": "https://localhost:8080/"
        },
        "id": "K061eZ-C7ZHS",
        "outputId": "07a80ff6-3965-4899-a125-ba445bb4268c"
      },
      "execution_count": null,
      "outputs": [
        {
          "output_type": "stream",
          "name": "stdout",
          "text": [
            "Enter n val : 6\n",
            "6 x 1  =  6\n",
            "6 x 2  =  12\n",
            "6 x 3  =  18\n",
            "6 x 4  =  24\n",
            "6 x 5  =  30\n",
            "6 x 6  =  36\n",
            "6 x 7  =  42\n",
            "6 x 8  =  48\n",
            "6 x 9  =  54\n",
            "6 x 10  =  60\n"
          ]
        }
      ]
    },
    {
      "cell_type": "code",
      "source": [
        "# 9)Write a program to calculate the area of the traingle by accepting base and height as integer/float input from the user?\n",
        "\n",
        "bs = float(input(\"Enter the base length : \"))\n",
        "h = float(input(\"Enter the height : \"))\n",
        "\n",
        "print(\"Area of triangle \",bs*h/2,\"sq units\")"
      ],
      "metadata": {
        "colab": {
          "base_uri": "https://localhost:8080/"
        },
        "id": "ojV3hqZp731R",
        "outputId": "ed308924-72d8-4a2f-b68f-a6e3e4ca7526"
      },
      "execution_count": null,
      "outputs": [
        {
          "output_type": "stream",
          "name": "stdout",
          "text": [
            "Enter the base length : 7\n",
            "Enter the height : 99\n",
            "Area of triangle  346.5 sq units\n"
          ]
        }
      ]
    },
    {
      "cell_type": "code",
      "source": [
        "# 10)Write a program to find the greatest number from three numbers by accepting three integer inputs from the user?\n",
        "\n",
        "a = int(input('first number : '))\n",
        "b = int(input('second number : '))\n",
        "c = int(input('third number : '))\n",
        "largest = 0 \n",
        "if a > b and a > c : \n",
        "  largest = a \n",
        "elif b > c : \n",
        "  largest = b \n",
        "else : largest = c \n",
        "print(largest, \"is the largest numbers.\")"
      ],
      "metadata": {
        "colab": {
          "base_uri": "https://localhost:8080/"
        },
        "id": "UA_a6_Jt8Q8u",
        "outputId": "8b24a356-44e4-42dc-c3d8-985cf0d60106"
      },
      "execution_count": null,
      "outputs": [
        {
          "output_type": "stream",
          "name": "stdout",
          "text": [
            "Enter first number : 12\n",
            "Enter second number : 34\n",
            "Enter third number : 21\n",
            "34 is the largest of three numbers.\n"
          ]
        }
      ]
    },
    {
      "cell_type": "code",
      "source": [
        "# 11)Write a program that prompts the user to enter a number between 1-7 and then displays the corresponding day of the week.\n",
        "\n",
        "d = {1:\"Sunday\",2:\"Monday\",3:\"Tuesday\",4:\"Wednesday\",5:\"Thursday\",6:\"Friday\",7:\"Saturday\"}\n",
        "i=int(input(\"Enter  a number from 1-7 : \"))\n",
        "print(d[i])"
      ],
      "metadata": {
        "id": "Yn2yQxPj8t2d"
      },
      "execution_count": null,
      "outputs": []
    },
    {
      "cell_type": "code",
      "source": [
        "# 12)Write a Python program to convert Imperial Units of Inches with the Metric Units of \n",
        "# Centimetres by if-elif-else by accepting float value of units and ask whether inches or cms \n",
        "# from the user and then convert that means two inputs from the user?\n",
        "\n",
        "mag = float(input(\"Enter the magnitude : \"))\n",
        "unts = input(\"Enter the type of i/p : \")\n",
        "\n",
        "if unts==\"inches\":\n",
        "  print(mag*2.54)\n",
        "elif unts==\"cms\":\n",
        "  print(mag/2.54)"
      ],
      "metadata": {
        "id": "sweC8OTZ9ZOk"
      },
      "execution_count": null,
      "outputs": []
    },
    {
      "cell_type": "code",
      "source": [
        "# 13)write a program to determine whether the character entered is a vowel or not by using logical operator?\n",
        "\n",
        "c = input(\"Enter the character : \")\n",
        "\n",
        "if c=='a' or c=='e' or c=='i' or c=='o' or c=='u' or c=='A' or c=='E' or c=='I' or c=='O' or c=='U':\n",
        "  print(\"vowel\")\n",
        "else:\n",
        "  print(\"Consonant\")"
      ],
      "metadata": {
        "colab": {
          "base_uri": "https://localhost:8080/"
        },
        "id": "CNFSEc0X_2IL",
        "outputId": "be56ec9a-da44-4ed8-aaa4-7ec03eec9de3"
      },
      "execution_count": null,
      "outputs": [
        {
          "output_type": "stream",
          "name": "stdout",
          "text": [
            "Enter the character : N\n",
            "Consonant\n"
          ]
        }
      ]
    },
    {
      "cell_type": "code",
      "source": [
        "# 16)Create a Dictionary from the below list\n",
        "# a = ['Codegnan','Saketh','Python'] and the dictionary should be as d = {'Codegnan':'Vjwda', 'Saketh':'Vjwda','Python':'Vjwda'}\n",
        "a = ['Codegnan','Saketh','Python']\n",
        "b = ['Vjwda','Vjwda','Vjwda']\n",
        "\n",
        "d = dict(zip(a,b))\n",
        "print(d)"
      ],
      "metadata": {
        "id": "fRX_SEn0A-fu",
        "colab": {
          "base_uri": "https://localhost:8080/"
        },
        "outputId": "7e757929-b572-4c33-afef-2b091581251a"
      },
      "execution_count": null,
      "outputs": [
        {
          "output_type": "stream",
          "name": "stdout",
          "text": [
            "{'Codegnan': 'Vjwda', 'Saketh': 'Vjwda', 'Python': 'Vjwda'}\n"
          ]
        }
      ]
    },
    {
      "cell_type": "code",
      "source": [
        "# 17)Write a Python program to check if the given value exists in dictionary or not using if-else by accepting value as string from the user?\n",
        "\n",
        "# Your input is \n",
        "# a ={'sno':1,'name':'Codegnan','place':'Vijayawada'}\n",
        "\n",
        "j = input(\"Enter the val: \")\n",
        "a ={'sno':1,'name':'Codegnan','place':'Vijayawada'}\n",
        "\n",
        "if i in a:\n",
        "  print(\"Found\")\n"
      ],
      "metadata": {
        "colab": {
          "base_uri": "https://localhost:8080/"
        },
        "id": "S85Jc1BfR9T4",
        "outputId": "24575d06-2f1f-4137-c1f5-d9ae4171c118"
      },
      "execution_count": null,
      "outputs": [
        {
          "output_type": "stream",
          "name": "stdout",
          "text": [
            "Enter the val: sno\n",
            "Found\n"
          ]
        }
      ]
    },
    {
      "cell_type": "code",
      "source": [
        "# 18)Merge two Python dictionaries into one new dictionary?\n",
        "\n",
        "# your inputs are as follows:\n",
        "# a = {'sno':[1,2,3,4],'names':['Codegnan','Saketh','Python']}\n",
        "# b={'Gender':{'Male','Female'},'place':['Vijayawada','Mnglgiri']}\n",
        "\n",
        "a = {'sno':[1,2,3,4],'names':['Codegnan','Saketh','Python']}\n",
        "b={'Gender':{'Male','Female'},'place':['Vijayawada','Mnglgiri']}\n",
        "\n",
        "for i in b.keys():\n",
        "  a[i] = b[i]\n",
        "print(a)"
      ],
      "metadata": {
        "colab": {
          "base_uri": "https://localhost:8080/"
        },
        "id": "UF5ns-hpUz5G",
        "outputId": "6e33a23c-f2e0-496d-9a7b-bd9afb445d76"
      },
      "execution_count": null,
      "outputs": [
        {
          "output_type": "stream",
          "name": "stdout",
          "text": [
            "{'sno': [1, 2, 3, 4], 'names': ['Codegnan', 'Saketh', 'Python'], 'Gender': {'Male', 'Female'}, 'place': ['Vijayawada', 'Mnglgiri']}\n"
          ]
        }
      ]
    },
    {
      "cell_type": "code",
      "source": [
        "# 19)With a given number n, write a program to generate a dictionary that contains (i, i*i) \n",
        "# such that is an integral number between 1 and n (both included)and then the program should print the dictionary.\n",
        "# Suppose the following input is supplied to the program:\n",
        "# 8\n",
        "\n",
        "n = int(input(\"Enter the number : \"))\n",
        "d = {}\n",
        "for i in range(1,n+1):\n",
        "  d[i]=i*i\n",
        "print(d)"
      ],
      "metadata": {
        "colab": {
          "base_uri": "https://localhost:8080/"
        },
        "id": "cRBssa_dVXNQ",
        "outputId": "3ce250c8-cad1-4980-dc2e-29c90a138bb4"
      },
      "execution_count": null,
      "outputs": [
        {
          "output_type": "stream",
          "name": "stdout",
          "text": [
            "Enter the number : 9\n",
            "{1: 1, 2: 4, 3: 9, 4: 16, 5: 25, 6: 36, 7: 49, 8: 64, 9: 81}\n"
          ]
        }
      ]
    },
    {
      "cell_type": "code",
      "source": [
        "# 20)Write a program that accepts a comma separated sequence of words as input and prints the words in a comma-separated \n",
        "# sequence after sorting them alphabetically.\n",
        "\n",
        "s = input(\"Enter the string: \")\n",
        "\n",
        "s = s.split(', ')\n",
        "s.sort()\n",
        "print(s)"
      ],
      "metadata": {
        "colab": {
          "base_uri": "https://localhost:8080/"
        },
        "id": "-_KNnTqOVxQt",
        "outputId": "222253e1-9039-413d-a208-ce7920974fdf"
      },
      "execution_count": null,
      "outputs": [
        {
          "output_type": "stream",
          "name": "stdout",
          "text": [
            "Enter the string: Anuraag, Adarsh, Vaishnavi\n",
            "['Adarsh', 'Anuraag', 'Vaishnavi']\n"
          ]
        }
      ]
    },
    {
      "cell_type": "code",
      "source": [
        "# 21)Write a program, which will find all such numbers between 1000 and 3000 (both included) such that each digit of the number is an even number.\n",
        "# The numbers obtained should be printed in a comma-separated sequence on a single line.\n",
        "\n",
        "for i in range(1000,3001):\n",
        "  flg = True\n",
        "  for j in str(i):\n",
        "    if int(j)%2!=0:\n",
        "      flg = False\n",
        "      break\n",
        "  if flg:print(i,end=\" \")\n",
        "  \n",
        "\n",
        "    "
      ],
      "metadata": {
        "colab": {
          "base_uri": "https://localhost:8080/"
        },
        "id": "z5B6Fzy_W_1O",
        "outputId": "1c7bcf7c-7f1e-40ea-83f0-b8036467edea"
      },
      "execution_count": null,
      "outputs": [
        {
          "output_type": "stream",
          "name": "stdout",
          "text": [
            "2000 2002 2004 2006 2008 2020 2022 2024 2026 2028 2040 2042 2044 2046 2048 2060 2062 2064 2066 2068 2080 2082 2084 2086 2088 2200 2202 2204 2206 2208 2220 2222 2224 2226 2228 2240 2242 2244 2246 2248 2260 2262 2264 2266 2268 2280 2282 2284 2286 2288 2400 2402 2404 2406 2408 2420 2422 2424 2426 2428 2440 2442 2444 2446 2448 2460 2462 2464 2466 2468 2480 2482 2484 2486 2488 2600 2602 2604 2606 2608 2620 2622 2624 2626 2628 2640 2642 2644 2646 2648 2660 2662 2664 2666 2668 2680 2682 2684 2686 2688 2800 2802 2804 2806 2808 2820 2822 2824 2826 2828 2840 2842 2844 2846 2848 2860 2862 2864 2866 2868 2880 2882 2884 2886 2888 "
          ]
        }
      ]
    },
    {
      "cell_type": "code",
      "source": [
        "# 22) Write a Python program to print Prime Numbers within given range such as accepting two inputs from user and print in that range?\n",
        "\n",
        "\n",
        "n1, n2 = map(int,input(\"Enter n1 and n2: \").split())\n",
        "for i in range(n1,n2+1):\n",
        "  flg = True\n",
        "  for j in range(2,n//2):\n",
        "    if i%j==0:\n",
        "      flg = False\n",
        "      break\n",
        "  if flg:\n",
        "    print(i,end=\" \")\n"
      ],
      "metadata": {
        "colab": {
          "base_uri": "https://localhost:8080/"
        },
        "id": "HStSbekEcJRO",
        "outputId": "7c10fe20-e7d8-4e05-c859-4345ab12f357"
      },
      "execution_count": null,
      "outputs": [
        {
          "output_type": "stream",
          "name": "stdout",
          "text": [
            "Enter n1 and n2: 100 200\n",
            "101 103 107 109 113 115 119 121 125 127 131 133 137 139 143 145 149 151 155 157 161 163 167 169 173 175 179 181 185 187 191 193 197 199 "
          ]
        }
      ]
    },
    {
      "cell_type": "code",
      "source": [
        "# 23)Write a Python Program to display which letters are present in both the strings by accepting two strings from user?\n",
        "\n",
        "s = set()\n",
        "\n",
        "s1,s2 = map(str,input(\"Enter n1 and n2: \").split())\n",
        "\n",
        "for i in range(len(s1)):\n",
        "  if s1[i] in s2:\n",
        "    s.add(s1[i])\n",
        "print(s)"
      ],
      "metadata": {
        "colab": {
          "base_uri": "https://localhost:8080/"
        },
        "id": "-KVvv1ILfsWh",
        "outputId": "3c878c9f-18d1-41ea-c9c2-41d9aa918937"
      },
      "execution_count": null,
      "outputs": [
        {
          "output_type": "stream",
          "name": "stdout",
          "text": [
            "Enter n1 and n2: Anuraag Affan\n",
            "{'A', 'n', 'a'}\n"
          ]
        }
      ]
    },
    {
      "cell_type": "code",
      "source": [
        "# 24)Write a Python Program to find the factors of a number by accepting input from the user?\n",
        "\n",
        "n = int(input(\"Enter the number: \"))\n",
        "\n",
        "for i in range(1,n//2+1):\n",
        "  if n%i==0:\n",
        "    print(i,end=\" \")"
      ],
      "metadata": {
        "colab": {
          "base_uri": "https://localhost:8080/"
        },
        "id": "2eAW8MQJhepG",
        "outputId": "332a2c29-09fb-4a4c-b45f-227a3910e6b0"
      },
      "execution_count": null,
      "outputs": [
        {
          "output_type": "stream",
          "name": "stdout",
          "text": [
            "Enter the number: 100\n",
            "1 2 4 5 10 20 25 50 "
          ]
        }
      ]
    },
    {
      "cell_type": "code",
      "source": [
        "# 25)Write a Python program to count the even numbers in the list by accepting list as input from the user?\n",
        "\n",
        "a = map(int, input().split())\n",
        "\n",
        "c=0\n",
        "\n",
        "for i in a:\n",
        "  if i%2==0:\n",
        "    c+=1\n",
        "print(c)"
      ],
      "metadata": {
        "id": "SkHsbSQ2iG6o",
        "colab": {
          "base_uri": "https://localhost:8080/"
        },
        "outputId": "6facfd7b-7c97-4919-ccf6-90347de2157a"
      },
      "execution_count": null,
      "outputs": [
        {
          "output_type": "stream",
          "name": "stdout",
          "text": [
            "12 13 14 15\n",
            "2\n"
          ]
        }
      ]
    },
    {
      "cell_type": "code",
      "source": [
        "# 26)Write a Python program which iterates the numbers from 1 to 50 (including 50).\n",
        "# For multiples of 3 print \"Codegnan\" instead of number in output,and for the multiples of five print \"Python\". \n",
        "# For numbers which are multiples of both three and five print \"I love Codegnan\".\n",
        "\n",
        "for i in range(1,51):\n",
        "  if i%15==0:\n",
        "    print(\"I love Codegnan\")\n",
        "  elif i%5==0:\n",
        "    print(\"Python\")\n",
        "  elif i%3==0:\n",
        "    print(\"Codegnan\")"
      ],
      "metadata": {
        "id": "v5bShAeMJ2x0",
        "colab": {
          "base_uri": "https://localhost:8080/"
        },
        "outputId": "62802ad3-d558-41c1-ed34-88c70b169608"
      },
      "execution_count": null,
      "outputs": [
        {
          "output_type": "stream",
          "name": "stdout",
          "text": [
            "Codegnan\n",
            "Python\n",
            "Codegnan\n",
            "Codegnan\n",
            "Python\n",
            "Codegnan\n",
            "I love Codegnan\n",
            "Codegnan\n",
            "Python\n",
            "Codegnan\n",
            "Codegnan\n",
            "Python\n",
            "Codegnan\n",
            "I love Codegnan\n",
            "Codegnan\n",
            "Python\n",
            "Codegnan\n",
            "Codegnan\n",
            "Python\n",
            "Codegnan\n",
            "I love Codegnan\n",
            "Codegnan\n",
            "Python\n"
          ]
        }
      ]
    },
    {
      "cell_type": "code",
      "source": [
        "# 27)Write a Python program to convert month name to a number of days by accepting month name from the user?\n",
        "\n",
        "d = {\"January\":31,\n",
        "     \"February\":28,\n",
        "     \"March\":31,\n",
        "     \"April\":30,\n",
        "     \"May\":31,\n",
        "     \"June\":30,\n",
        "     \"July\":31,\n",
        "     \"August\":31,\n",
        "     \"September\":30,\n",
        "     \"October\":31,\n",
        "     \"November\":30,\n",
        "     \"December\":31}\n",
        "\n",
        "m = input()\n",
        "\n",
        "print(d[m])"
      ],
      "metadata": {
        "colab": {
          "base_uri": "https://localhost:8080/"
        },
        "id": "7VsAMUxkftSP",
        "outputId": "1c63f6d1-956f-40eb-ecbf-ddb48f00e185"
      },
      "execution_count": null,
      "outputs": [
        {
          "output_type": "stream",
          "name": "stdout",
          "text": [
            "December\n",
            "31\n"
          ]
        }
      ]
    },
    {
      "cell_type": "code",
      "source": [
        "# 28)Write a program which accepts a sequence of comma-separated numbers from console and generate a list and a tuple which contains every number.\n",
        "# Suppose the following input is supplied to the program:\n",
        "# 14,7,5,33,22,8\n",
        "\n",
        "l = list(map(str,input().split(',')))\n",
        "\n",
        "print(l)\n",
        "print(tuple(l))"
      ],
      "metadata": {
        "colab": {
          "base_uri": "https://localhost:8080/"
        },
        "id": "e6eufOlGgSd9",
        "outputId": "4d970731-d9de-440a-db52-089e2a00f838"
      },
      "execution_count": null,
      "outputs": [
        {
          "output_type": "stream",
          "name": "stdout",
          "text": [
            "14,7,5,33,22,8\n",
            "['14', '7', '5', '33', '22', '8']\n",
            "('14', '7', '5', '33', '22', '8')\n"
          ]
        }
      ]
    },
    {
      "cell_type": "code",
      "source": [
        "# 29)Write a Python Program to accept two numbers from user and find the sum and\n",
        "# product  of two numbers,your code should be in two lines only?\n",
        "\n",
        "a,b = map(int,input().split())\n",
        "print(\"Product = \",a*b,\"Sum = \",a+b)"
      ],
      "metadata": {
        "colab": {
          "base_uri": "https://localhost:8080/"
        },
        "id": "nwsBVMQpg4TE",
        "outputId": "e93df6e3-3691-490a-cb49-db8944e5a290"
      },
      "execution_count": null,
      "outputs": [
        {
          "output_type": "stream",
          "name": "stdout",
          "text": [
            "3 5\n",
            "Product =  15 Sum =  8\n"
          ]
        }
      ]
    },
    {
      "cell_type": "code",
      "source": [
        "# 30)write a program that displays all leap years \n",
        "# from 1900-2101 along with the count of leap years in given range by satisfying all the conditions for a Leap year?\n",
        "\n",
        "for i in range(1900,2102):\n",
        "  if i%4==0 and i%100!=0 or i%400==0:\n",
        "    print(i,end=\" \")"
      ],
      "metadata": {
        "colab": {
          "base_uri": "https://localhost:8080/"
        },
        "id": "e7t0KUq2mrVn",
        "outputId": "e8226efd-9ece-4c5c-e3d0-9337dae45d7b"
      },
      "execution_count": null,
      "outputs": [
        {
          "output_type": "stream",
          "name": "stdout",
          "text": [
            "1904 1908 1912 1916 1920 1924 1928 1932 1936 1940 1944 1948 1952 1956 1960 1964 1968 1972 1976 1980 1984 1988 1992 1996 2000 2004 2008 2012 2016 2020 2024 2028 2032 2036 2040 2044 2048 2052 2056 2060 2064 2068 2072 2076 2080 2084 2088 2092 2096 "
          ]
        }
      ]
    },
    {
      "cell_type": "code",
      "source": [
        "# 31)Write a Python Program to find the sum of values in the dictionary?\n",
        "# Dictionary is a = {'Codegnan': 250,'Saketh':300,'Python':250,'Monday':200}\n",
        "\n",
        "a = {'Codegnan': 250,'Saketh':300,'Python':250,'Monday':200}\n",
        "print(sum(a.values()))\n"
      ],
      "metadata": {
        "colab": {
          "base_uri": "https://localhost:8080/"
        },
        "id": "Wm2XEAyonA4I",
        "outputId": "97b33197-bd06-43dd-9a54-ed62df0f5740"
      },
      "execution_count": null,
      "outputs": [
        {
          "output_type": "stream",
          "name": "stdout",
          "text": [
            "1000\n"
          ]
        }
      ]
    },
    {
      "cell_type": "code",
      "source": [
        "# 32)Write a Python program to check a triangle is equilateral, isosceles or scalene by accepting 3 sides as input from the user?\n",
        "\n",
        "a = set(map(int,input().split()))\n",
        "\n",
        "\n",
        "if len(s)==1:\n",
        "  print(\"Equilateral\")\n",
        "elif len(s)==2:\n",
        "  print(\"Isoceles\")\n",
        "else:\n",
        "  print(\"Scalene\")"
      ],
      "metadata": {
        "colab": {
          "base_uri": "https://localhost:8080/"
        },
        "id": "diEyKzw0nJtY",
        "outputId": "97c46f7c-2dd4-41a1-9b6a-5fc1c07dece4"
      },
      "execution_count": null,
      "outputs": [
        {
          "output_type": "stream",
          "name": "stdout",
          "text": [
            "2 3 4\n",
            "Scalene\n"
          ]
        }
      ]
    },
    {
      "cell_type": "code",
      "source": [
        "# 33)Write a Python Program to print the following pattern?\n",
        "\n",
        "# 1                                                                                                             \n",
        "# 22                                                                                                            \n",
        "# 333                                                                                                           \n",
        "# 4444                                                                                                          \n",
        "# 55555                                                                                                         \n",
        "# 666666                                                                                                        \n",
        "# 7777777                                                                                                       \n",
        "# 88888888                                                                                                      \n",
        "# 999999999 \n",
        "\n",
        "for i in range(1,10):\n",
        "  for j in range(i):\n",
        "    print(i,end=\" \")\n",
        "  print()"
      ],
      "metadata": {
        "colab": {
          "base_uri": "https://localhost:8080/"
        },
        "id": "1pV6PJx3oAy0",
        "outputId": "afe110a9-4f03-4c18-8cf7-895c56a1b51e"
      },
      "execution_count": null,
      "outputs": [
        {
          "output_type": "stream",
          "name": "stdout",
          "text": [
            "1 \n",
            "2 2 \n",
            "3 3 3 \n",
            "4 4 4 4 \n",
            "5 5 5 5 5 \n",
            "6 6 6 6 6 6 \n",
            "7 7 7 7 7 7 7 \n",
            "8 8 8 8 8 8 8 8 \n",
            "9 9 9 9 9 9 9 9 9 \n"
          ]
        }
      ]
    },
    {
      "cell_type": "code",
      "source": [
        "# # 34)Write a Python program to add 'ing' at the end of a given string (length should be at least 3). \n",
        "# If the given string already ends with 'ing' then add 'ly' instead. \n",
        "# If the length of the given string is less than 3, leave it unchanged.\n",
        "\n",
        "s = input()\n",
        "\n",
        "if len(s)<3:\n",
        "  print(s)\n",
        "elif s[-1:-4:-1]==\"gni\":\n",
        "  print(s+\"ly\")\n",
        "else:\n",
        "  print(s+\"ing\")"
      ],
      "metadata": {
        "colab": {
          "base_uri": "https://localhost:8080/"
        },
        "id": "qXK2C0ztoMY0",
        "outputId": "ded59328-9ac6-47ec-b479-b78a4f98a4ff"
      },
      "execution_count": null,
      "outputs": [
        {
          "output_type": "stream",
          "name": "stdout",
          "text": [
            "corresponding\n",
            "correspondingly\n"
          ]
        }
      ]
    },
    {
      "cell_type": "code",
      "source": [
        "# # 35)Write a Python program that takes multiple words as input from user (store in list) \n",
        "# and return the longest word and the length of the longest one?\n",
        "\n",
        "l = 0\n",
        "\n",
        "s = list(map(str,input().split()))\n",
        "\n",
        "for i in s:\n",
        "  if len(i)>l:\n",
        "    l=len(i)\n",
        "    w = i\n",
        "print(\"Longest Word = \",w,\"Len=\",l)"
      ],
      "metadata": {
        "colab": {
          "base_uri": "https://localhost:8080/"
        },
        "id": "CyP9Wf3bpjj5",
        "outputId": "b75b59d5-b2e6-4c49-bcde-8d39a363c9f8"
      },
      "execution_count": null,
      "outputs": [
        {
          "output_type": "stream",
          "name": "stdout",
          "text": [
            "Anuraag Adarsh Harshavardhan Dheeraj Ameya Eshwar\n",
            "Longest Word =  Harshavardhan Len= 13\n"
          ]
        }
      ]
    },
    {
      "cell_type": "code",
      "source": [
        "# 36)Write a Python program to remove the list values in the given dictionary?\n",
        "\n",
        "# your dictionary is :\n",
        "# a  = {'Monday': [10, 20, 30], 'Tuesday': [20, 30, 40], 'Wednesday': [12,15,16,28],'Thursday':[52,12,36,6],\n",
        "#       'Friday':[15,16,28,9,25],'Saturday':[15,25,35,45]}\n",
        "\n",
        "a  = {'Monday': [10, 20, 30], 'Tuesday': [20, 30, 40], 'Wednesday': [12,15,16,28],'Thursday':[52,12,36,6],\n",
        "     'Friday':[15,16,28,9,25],'Saturday':[15,25,35,45]}\n",
        "for i in a:\n",
        "  a[i].clear()\n",
        "print(a)\n"
      ],
      "metadata": {
        "colab": {
          "base_uri": "https://localhost:8080/"
        },
        "id": "CCZtiGTPqQVi",
        "outputId": "d7c11c85-da7b-40ed-a783-eee9830a0a7d"
      },
      "execution_count": null,
      "outputs": [
        {
          "output_type": "stream",
          "name": "stdout",
          "text": [
            "{'Monday': [], 'Tuesday': [], 'Wednesday': [], 'Thursday': [], 'Friday': [], 'Saturday': []}\n"
          ]
        }
      ]
    },
    {
      "cell_type": "code",
      "source": [
        "# 37)Define a function that can receive two integral numbers in string form and compute their sum and then print it in console\n",
        "\n",
        "def add(a:int,b:int):\n",
        "  return a+b\n",
        "\n",
        "a,b = map(int,input().split())\n",
        "print(add(a,b))"
      ],
      "metadata": {
        "colab": {
          "base_uri": "https://localhost:8080/"
        },
        "id": "oOpOCGfwqlqY",
        "outputId": "187d01da-7aba-45e8-8769-9b0f40f2bc2d"
      },
      "execution_count": null,
      "outputs": [
        {
          "output_type": "stream",
          "name": "stdout",
          "text": [
            "43 47\n",
            "90\n"
          ]
        }
      ]
    },
    {
      "cell_type": "code",
      "source": [
        "# 38)Evalue the conditions for the given below logic:\n",
        "\n",
        "# \tf(x)  =  { 3x-1  (x>1)\n",
        "# \t\t   x+2   (-1<=x<=1)\n",
        "# \t\t   5x+3  (x<=-1       }\n",
        "\n",
        "def f(x):\n",
        "  if (x>1):return 3*x-1 \n",
        "  if(-1<=x<=1): return x+2 \n",
        "  if(x<=-1): return 5*x+3  \n",
        "print(f(0.88))"
      ],
      "metadata": {
        "colab": {
          "base_uri": "https://localhost:8080/"
        },
        "id": "1TLManW8rKqm",
        "outputId": "74bf9a57-68f0-4a2c-b215-b6fcbb1e9037"
      },
      "execution_count": null,
      "outputs": [
        {
          "output_type": "stream",
          "name": "stdout",
          "text": [
            "2.88\n"
          ]
        }
      ]
    },
    {
      "cell_type": "code",
      "source": [
        "# 39)Your input string is a = \"silent\" output string should be as b = \"listen\" ?\n",
        "\n",
        "if input()==\"silent\":\n",
        "  print(\"listen\")"
      ],
      "metadata": {
        "colab": {
          "base_uri": "https://localhost:8080/"
        },
        "id": "U5TnUh_UrzwH",
        "outputId": "942fff5d-60bb-45b6-9793-43d11c251c2c"
      },
      "execution_count": null,
      "outputs": [
        {
          "output_type": "stream",
          "name": "stdout",
          "text": [
            "silent\n",
            "listen\n"
          ]
        }
      ]
    },
    {
      "cell_type": "code",
      "source": [
        "# 40)Accept Username and password as strings from user and validate\n",
        "#  username with password,such as if username and password are matching login success\n",
        "\n",
        "username = \"anuraagb@gmail.com\"\n",
        "password = \"youlooksohot\"\n",
        "\n",
        "u = input(\"Enter Username : \")\n",
        "p = input(\"Enter Password : \")\n",
        "\n",
        "if u == username and p == password:\n",
        "  print(\"Login Successfull\")\n",
        "else:\n",
        "  print(\"Login Failed\")\n",
        " "
      ],
      "metadata": {
        "colab": {
          "base_uri": "https://localhost:8080/"
        },
        "id": "pXzedIaWsHBs",
        "outputId": "b84c2987-0a74-43b5-a411-478e0e62c97c"
      },
      "execution_count": null,
      "outputs": [
        {
          "output_type": "stream",
          "name": "stdout",
          "text": [
            "Enter Username : anuraagb@gmail.com\n",
            "Enter Password : youlooksohot\n",
            "Login Successfull\n"
          ]
        }
      ]
    },
    {
      "cell_type": "code",
      "source": [
        "# 41)Define a function that can accept two strings as input and \n",
        "# print the string with maximum length in console. \n",
        "# If two strings have the same length, then the function should print all strings line by line.\n",
        "\n",
        "def mxl(s,t):\n",
        "  if len(s)==len(t):\n",
        "    print(s,\"\\n\",t)\n",
        "  elif len(s)>len(t):\n",
        "    print(s)\n",
        "  else:\n",
        "    print(t)\n",
        "mxl(\"Anuraag\",\"AdarshS\")"
      ],
      "metadata": {
        "colab": {
          "base_uri": "https://localhost:8080/"
        },
        "id": "UxJ6torHttcx",
        "outputId": "eed5e9f8-b5e2-4ef2-cb34-796045ea3b59"
      },
      "execution_count": null,
      "outputs": [
        {
          "output_type": "stream",
          "name": "stdout",
          "text": [
            "Anuraag \n",
            " AdarshS\n"
          ]
        }
      ]
    },
    {
      "cell_type": "code",
      "source": [
        "# 42)Define a function which can print a dictionary where the keys are numbers between 1 and 15 (both included) \n",
        "# and the values are square of keys.\n",
        "\n",
        "d = {}\n",
        "def printd():\n",
        "  for i in range(1,16):\n",
        "    d[i]=pow(i,2)\n",
        "  print(d)\n",
        "printd()\n"
      ],
      "metadata": {
        "colab": {
          "base_uri": "https://localhost:8080/"
        },
        "id": "L-fJNMf9uTvY",
        "outputId": "f209f494-4cc9-4acf-9afd-a8f0c441376b"
      },
      "execution_count": null,
      "outputs": [
        {
          "output_type": "stream",
          "name": "stdout",
          "text": [
            "{1: 1, 2: 4, 3: 9, 4: 16, 5: 25, 6: 36, 7: 49, 8: 64, 9: 81, 10: 100, 11: 121, 12: 144, 13: 169, 14: 196, 15: 225}\n"
          ]
        }
      ]
    },
    {
      "cell_type": "code",
      "source": [
        "# 43)Define a function which can generate a list where the values are square of numbers between 1 and 15 (both included). \n",
        "# Then the function needs to print the first 5 and last 5 elements in the list.\n",
        "\n",
        "import numpy as np\n",
        "a = np.array(range(1,16))\n",
        "for i in range(len(a)):\n",
        "  a[i]*=a[i]\n",
        "x = list(a)\n",
        "print(x[:5]+x[-5:])\n",
        " "
      ],
      "metadata": {
        "colab": {
          "base_uri": "https://localhost:8080/"
        },
        "id": "pMIKp8sjwTuh",
        "outputId": "581c151b-5043-4bee-d588-17e3671bc6fd"
      },
      "execution_count": null,
      "outputs": [
        {
          "output_type": "stream",
          "name": "stdout",
          "text": [
            "[1, 4, 9, 16, 25, 121, 144, 169, 196, 225]\n"
          ]
        }
      ]
    },
    {
      "cell_type": "code",
      "source": [
        "# 44)Write a program to compute 1/2+2/3+3/4+...+n/n+1 with a given n input by console (n>0).\n",
        "\n",
        "# Suppose If the following n is given as input to the program:5\n",
        "# Then, the output of the program should be:\n",
        "# 3.55\n",
        "\n",
        "n = int(input())\n",
        "s = 0\n",
        "for i in range(1,n+1):\n",
        "  s+=i/(i+1)\n",
        "float(\"{:.2f}\".format(s))"
      ],
      "metadata": {
        "colab": {
          "base_uri": "https://localhost:8080/"
        },
        "id": "O0t5ZcM91KwT",
        "outputId": "10f7f02c-4232-4b91-dcfa-a8f6fb4ac1ef"
      },
      "execution_count": null,
      "outputs": [
        {
          "name": "stdout",
          "output_type": "stream",
          "text": [
            "5\n"
          ]
        },
        {
          "output_type": "execute_result",
          "data": {
            "text/plain": [
              "3.55"
            ]
          },
          "metadata": {},
          "execution_count": 51
        }
      ]
    },
    {
      "cell_type": "code",
      "source": [
        "# 45)Write a Function to generate all sentences where subject\n",
        "#  is in [\"I\", \"You\"] and verb is in [\"Play\", \"Love\"] \n",
        "#  and the sport is in [\"Hockey\",\"Cricket\"].\n",
        "\n",
        "s =[\"I\", \"You\"]\n",
        "v = [\"Play\", \"Love\"] \n",
        "p = [\"Hockey\",\"Cricket\"]\n",
        "\n",
        "for i in s:\n",
        "  for j in v:\n",
        "    for k in p:\n",
        "      print(i+\" \"+j+\" \"+k)"
      ],
      "metadata": {
        "colab": {
          "base_uri": "https://localhost:8080/"
        },
        "id": "KqBLOulw2mpF",
        "outputId": "231ad0bb-8894-41aa-aaa3-a711ac4e660d"
      },
      "execution_count": null,
      "outputs": [
        {
          "output_type": "stream",
          "name": "stdout",
          "text": [
            "I Play Hockey\n",
            "I Play Cricket\n",
            "I Love Hockey\n",
            "I Love Cricket\n",
            "You Play Hockey\n",
            "You Play Cricket\n",
            "You Love Hockey\n",
            "You Love Cricket\n"
          ]
        }
      ]
    },
    {
      "cell_type": "code",
      "source": [
        "# 46)With a given list [12,24,35,24,88,120,155,88,120,155], \n",
        "# write a Function to print this list after removing all duplicate values with original order reserved.\n",
        "\n",
        "def func():\n",
        "  print(list(set([12,24,35,24,88,120,155,88,120,155]))[::-1])\n",
        "func()"
      ],
      "metadata": {
        "colab": {
          "base_uri": "https://localhost:8080/"
        },
        "id": "fI2X0d3X3aqk",
        "outputId": "4e289bf0-8bb0-40e3-81ca-8219bb064409"
      },
      "execution_count": null,
      "outputs": [
        {
          "output_type": "stream",
          "name": "stdout",
          "text": [
            "[120, 88, 24, 155, 12, 35]\n"
          ]
        }
      ]
    },
    {
      "cell_type": "code",
      "source": [
        "# 47)Write a Function that accepts a string from user and gives the output of vowels\n",
        "#  in given string as list along with the length of the list?\n",
        "\n",
        "import collections\n",
        "\n",
        "def vo(s):\n",
        "  k=collections.deque()\n",
        "  for i in s:\n",
        "    for j in i:\n",
        "      if j in \"aeiou\":\n",
        "        k.append(j)\n",
        "  return k,len(k)\n",
        "print(vo(input()))"
      ],
      "metadata": {
        "colab": {
          "base_uri": "https://localhost:8080/"
        },
        "id": "QFozUxCL5GJK",
        "outputId": "284eb7a6-98b6-4e9a-8a77-dfcde26b2afc"
      },
      "execution_count": null,
      "outputs": [
        {
          "output_type": "stream",
          "name": "stdout",
          "text": [
            "Anuraag is an assole\n",
            "(deque(['u', 'a', 'a', 'i', 'a', 'a', 'o', 'e']), 8)\n"
          ]
        }
      ]
    },
    {
      "cell_type": "code",
      "source": [
        "# 48)Create a Function which includes your name,age,designation \n",
        "# and years of Experience,and assign a different name to the function and call it through the new name?\n",
        "\n",
        "def fun(name=\"Anuraag\",age=69,design=\"Spy\",exp=20):\n",
        "  print(name,age,design,exp)\n",
        "a = fun()\n",
        "a"
      ],
      "metadata": {
        "colab": {
          "base_uri": "https://localhost:8080/"
        },
        "id": "6cb56f068YWD",
        "outputId": "188e1fde-7635-4e8e-abb7-ded66a090d0d"
      },
      "execution_count": null,
      "outputs": [
        {
          "output_type": "stream",
          "name": "stdout",
          "text": [
            "Anuraag 69 Spy 20\n"
          ]
        }
      ]
    },
    {
      "cell_type": "code",
      "source": [
        "# 49)Write a function for checking the speed of drivers. This function should have one parameter: speed.\n",
        "\n",
        "#    -->If speed is less than 70, it should print \"Riding Well\".\n",
        "\n",
        "#    -->Otherwise, for every 5km above the speed limit (70), it should give the driver one demerit point and \n",
        "# print the total number of demerit points. For example, if the speed is 80, it should print: \"Points: 2\".\n",
        "\n",
        "#    -->If the driver gets more than 10 points, the function should print: \"License suspended\"\n",
        "\n",
        "def func(speed):\n",
        "  if speed<70:print(\"Riding Well\")\n",
        "  else:\n",
        "    r = (speed-70)//5\n",
        "    if r>10:\n",
        "      print(\"License suspended\")\n",
        "    else:\n",
        "      print(\"Points : \",r)\n",
        "\n",
        "func(int(input()))"
      ],
      "metadata": {
        "colab": {
          "base_uri": "https://localhost:8080/"
        },
        "id": "RsU49rVb9xoa",
        "outputId": "2c14fd4e-549a-4828-c317-20776eb66bfc"
      },
      "execution_count": null,
      "outputs": [
        {
          "output_type": "stream",
          "name": "stdout",
          "text": [
            "99\n",
            "Points :  5\n"
          ]
        }
      ]
    },
    {
      "cell_type": "code",
      "source": [
        "# 50)Write a function that returns the sum of multiples of 3 and 5 between 0 and given limit. \n",
        "# For example, if limit is 20, it should return the sum of 3, 5, 6, 9, 10, 12, 15, 18, 20\n",
        "\n",
        "def sm(n):\n",
        "  s = 0\n",
        "  for  i in range(n+1):\n",
        "    if i%15==0:\n",
        "      s+=i\n",
        "  return s\n",
        "sm(int(input()))"
      ],
      "metadata": {
        "colab": {
          "base_uri": "https://localhost:8080/"
        },
        "id": "LVEefSr_-4p9",
        "outputId": "e6a72b0f-372b-4131-b7ce-163fe6c74c43"
      },
      "execution_count": null,
      "outputs": [
        {
          "name": "stdout",
          "output_type": "stream",
          "text": [
            "99\n"
          ]
        },
        {
          "output_type": "execute_result",
          "data": {
            "text/plain": [
              "315"
            ]
          },
          "metadata": {},
          "execution_count": 85
        }
      ]
    },
    {
      "cell_type": "code",
      "source": [
        "# 51)Write a Function to count the number of trailing zeros in an Integer?\n",
        "\n",
        "# such as if your input is 12563000 output should be 3 as we have 3 zeros trailing\n",
        "\n",
        "def trl(n):\n",
        "  t = 0\n",
        "  s = str(n)\n",
        "  s = s[::-1]\n",
        "  for i in s:\n",
        "    if i=='0':t+=1\n",
        "  return t\n",
        "\n",
        "trl(int(input()))"
      ],
      "metadata": {
        "colab": {
          "base_uri": "https://localhost:8080/"
        },
        "id": "Yfimigb__bn0",
        "outputId": "4ea5826f-f654-41db-b72a-6d56de293721"
      },
      "execution_count": null,
      "outputs": [
        {
          "name": "stdout",
          "output_type": "stream",
          "text": [
            "928317000000\n"
          ]
        },
        {
          "output_type": "execute_result",
          "data": {
            "text/plain": [
              "6"
            ]
          },
          "metadata": {},
          "execution_count": 92
        }
      ]
    },
    {
      "cell_type": "code",
      "source": [
        "# 52)Create a Function Accept a number from user as input and \n",
        "# generate Fibonacci series till given input such as if input is 10 your output should be as below and should be in single line\n",
        " \n",
        "# 0 1 1 2 3 5 8\n",
        "\n",
        "def fib(n,a,b):\n",
        "  if a<n:\n",
        "    print(a,end=\" \")\n",
        "    fib(n,b,a+b)\n",
        "fib(10,0,1)"
      ],
      "metadata": {
        "colab": {
          "base_uri": "https://localhost:8080/"
        },
        "id": "k5g_xbFsByfQ",
        "outputId": "5570282b-3dc7-4c56-c249-7489bab93052"
      },
      "execution_count": null,
      "outputs": [
        {
          "output_type": "stream",
          "name": "stdout",
          "text": [
            "0 1 1 2 3 5 8 "
          ]
        }
      ]
    },
    {
      "cell_type": "code",
      "source": [
        "# # 53)Create a Function Same above question accept number from user and \n",
        "# print Fibonacci Series according to user desired values such as if he/she gives input as 10 series\n",
        "#  should have 10 numbers as below\n",
        "\n",
        "# # 0 1 1 2 3 5 8 13 21 34\n",
        "\n",
        "def fib(n,a,b):\n",
        "  if n:\n",
        "    print(a,end=\" \")\n",
        "    fib(n-1,b,a+b)\n",
        "fib(10,0,1)"
      ],
      "metadata": {
        "colab": {
          "base_uri": "https://localhost:8080/"
        },
        "id": "ynHLVx-FDmV-",
        "outputId": "358f95ab-a736-4398-ea3c-e07802ee6a33"
      },
      "execution_count": null,
      "outputs": [
        {
          "output_type": "stream",
          "name": "stdout",
          "text": [
            "0 1 1 2 3 5 8 13 21 34 "
          ]
        }
      ]
    },
    {
      "cell_type": "code",
      "source": [
        "# 54)Write a Python program to print all the .txt and .py file names from your Desktop location?\n",
        "\n",
        "import os\n",
        "path = \"C:\\Users\\mohan\\Desktop\"\n",
        "dir_list = os.listdir(path)\n",
        "print(dir_list)\n",
        "for i in range(len(dir_list)):\n",
        "  if dir_list[i][-3:]=='txt' or dir_list[i][-3:]=='.py':\n",
        "    print(dir_list[i])"
      ],
      "metadata": {
        "colab": {
          "base_uri": "https://localhost:8080/",
          "height": 134
        },
        "id": "0LNp_Yd0D2Ai",
        "outputId": "32999bcd-cc99-4b84-a9ee-ba34a42c4f49"
      },
      "execution_count": null,
      "outputs": [
        {
          "output_type": "error",
          "ename": "SyntaxError",
          "evalue": "ignored",
          "traceback": [
            "\u001b[0;36m  File \u001b[0;32m\"<ipython-input-100-05fd16e6e147>\"\u001b[0;36m, line \u001b[0;32m4\u001b[0m\n\u001b[0;31m    path = \"C:\\Users\\mohan\\OneDrive\\Desktop\"\u001b[0m\n\u001b[0m          ^\u001b[0m\n\u001b[0;31mSyntaxError\u001b[0m\u001b[0;31m:\u001b[0m (unicode error) 'unicodeescape' codec can't decode bytes in position 2-3: truncated \\UXXXXXXXX escape\n"
          ]
        }
      ]
    },
    {
      "cell_type": "code",
      "source": [
        "# 55)Write a Python program to write the below list data\n",
        "# lines = ['Codegnan', 'We enjoy learning in Codegnan','Bubyee'] into a new text file line by line such as below\n",
        "\n",
        "# Codegnan\n",
        "# We enjoy learning in Codegnan\n",
        "# Bubyee\n",
        "\n",
        "L = ['Codegnan\\n', 'We enjoy learning in Codegnan\\n','Bubyee\\n']\n",
        "# Writing to a file\n",
        "file1 = open('myfile.txt', 'w')\n",
        "file1.writelines((L))\n",
        "file1.close()\n",
        "\n",
        "# Using readline()\n",
        "file1 = open('myfile.txt', 'r')\n",
        "count = 0\n",
        "while True:\n",
        "  count += 1\n",
        "# Get next line from file\n",
        "  line = file1.readline()\n",
        "# if line is empty\n",
        "# end of file is reached\n",
        "  if not line:\n",
        "    break\n",
        "  print(\"{}\".format(line.strip()))\n",
        "file1.close()\n"
      ],
      "metadata": {
        "colab": {
          "base_uri": "https://localhost:8080/"
        },
        "id": "igSNDVbqEzxv",
        "outputId": "1952e90b-c8b7-4ace-ec7c-adc5f840a93b"
      },
      "execution_count": null,
      "outputs": [
        {
          "output_type": "stream",
          "name": "stdout",
          "text": [
            "Codegnan\n",
            "We enjoy learning in Codegnan\n",
            "Bubyee\n"
          ]
        }
      ]
    },
    {
      "cell_type": "code",
      "source": [
        "# 56)Write a Python program to generate 10 6 digit differnt OTPS with an interval of 5\n",
        "import random\n",
        "import math\n",
        "import time\n",
        "for i in range(1,11):\n",
        "  print(random.randint(pow(10,6), 9999999))\n",
        "  time.sleep(5)"
      ],
      "metadata": {
        "colab": {
          "base_uri": "https://localhost:8080/"
        },
        "id": "n81IliWkFXbL",
        "outputId": "99f0fe2f-84c1-4ff0-f727-6857a19fcfbd"
      },
      "execution_count": null,
      "outputs": [
        {
          "output_type": "stream",
          "name": "stdout",
          "text": [
            "7363650\n",
            "4836577\n",
            "3618395\n",
            "6757179\n",
            "8298946\n",
            "6965447\n",
            "2541665\n",
            "7053201\n",
            "4611389\n",
            "1375249\n"
          ]
        }
      ]
    },
    {
      "cell_type": "code",
      "source": [
        "# 57)Write a Python program to accept 3 inputs\n",
        "# as date,month and year from user and convert it\n",
        "# to date format and then give the corresponding\n",
        "# month name,day of the week for given date,along with day number of the year?\n",
        "import datetime\n",
        "import calendar\n",
        "from datetime import date\n",
        "\n",
        "date_val = date(2007, 7, 23)\n",
        "\n",
        "day_of_year = date_val.strftime('%j')\n",
        "def findDay(date):\n",
        "  born = datetime.datetime.strptime(date, '%d %m %Y').weekday()\n",
        "  print (calendar.day_name[born])\n",
        "date_val = date(2019, 2, 3)\n",
        "day_of_year = date_val.strftime('%j')\n",
        "print(day_of_year)\n",
        "date = '03 02 2019'\n",
        "born = datetime.datetime.strptime(date, '%d %m %Y').weekday()\n",
        "findDay(date)\n",
        "print(calendar.month_name[born])\n",
        "\n"
      ],
      "metadata": {
        "colab": {
          "base_uri": "https://localhost:8080/"
        },
        "id": "myewmXw4FmGe",
        "outputId": "c8f66bef-da85-4de0-aeb9-9ebcb011a505"
      },
      "execution_count": null,
      "outputs": [
        {
          "output_type": "stream",
          "name": "stdout",
          "text": [
            "034\n",
            "Sunday\n",
            "June\n"
          ]
        }
      ]
    },
    {
      "cell_type": "code",
      "source": [
        "# 58)Write a Python program to calculate the number of days between two given dates,as\n",
        "from datetime import date\n",
        "date1 = date(2014, 7, 2)\n",
        "date2 = date(2014, 7, 11)\n",
        "delta = date2 - date1\n",
        "delta"
      ],
      "metadata": {
        "colab": {
          "base_uri": "https://localhost:8080/"
        },
        "id": "H6XZs5W1GVHd",
        "outputId": "e139a4d9-e220-4d31-a599-7ba735706476"
      },
      "execution_count": null,
      "outputs": [
        {
          "output_type": "execute_result",
          "data": {
            "text/plain": [
              "datetime.timedelta(days=9)"
            ]
          },
          "metadata": {},
          "execution_count": 109
        }
      ]
    },
    {
      "cell_type": "code",
      "source": [
        "# 59)Write a Python program to read a random line from the \n",
        "# given text file,you can use any text file which is already present -->random module\n",
        "\n",
        "with open('test.txt', 'w') as writefile:\n",
        "  writefile.write(\"This is line A\")\n",
        "  writefile.write(\"\\n This is line ABC\")\n",
        "\n",
        "import random\n",
        "def random_line(fname):\n",
        "  lines = open(fname).read().splitlines()\n",
        "  return random.choice(lines)\n",
        "print(random_line('test.txt'))\n"
      ],
      "metadata": {
        "colab": {
          "base_uri": "https://localhost:8080/"
        },
        "id": "SdHc-uQVGjYd",
        "outputId": "47b46d06-f5e4-41bb-8159-cd8a82a66121"
      },
      "execution_count": null,
      "outputs": [
        {
          "output_type": "stream",
          "name": "stdout",
          "text": [
            " This is line ABC\n"
          ]
        }
      ]
    },
    {
      "cell_type": "code",
      "source": [
        "# 60)Write a Python program by creating a Function to append text to a file and display \n",
        "# the text.Your output should look as below line by line\n",
        "\n",
        "# Zen of Python\n",
        "# Easter Eggs\n",
        "\n",
        "with open('test.txt', 'w') as writefile:\n",
        "  writefile.write(\"Zen of Python\")\n",
        "  writefile.write(\"\\nEaster \")\n",
        "file_object = open('test.txt', 'a')\n",
        "file_object.write('Eggs')\n",
        "file_object.close()\n",
        "file_object = open('test.txt', 'r')\n",
        "con=file_object.read()\n",
        "print(con)\n",
        "file_object.close()"
      ],
      "metadata": {
        "colab": {
          "base_uri": "https://localhost:8080/"
        },
        "id": "15KuqABEGuTs",
        "outputId": "17ccc032-0ba4-46e3-df5a-bf24037d03eb"
      },
      "execution_count": null,
      "outputs": [
        {
          "output_type": "stream",
          "name": "stdout",
          "text": [
            "Zen of Python\n",
            "Easter Eggs\n"
          ]
        }
      ]
    }
  ]
}